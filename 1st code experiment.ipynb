{
 "cells": [
  {
   "cell_type": "code",
   "execution_count": 14,
   "id": "cba0be6c",
   "metadata": {},
   "outputs": [],
   "source": [
    "import numpy as np\n",
    "import pandas as pd\n",
    "from sklearn.datasets import make_classification\n",
    "from sklearn.model_selection import train_test_split\n",
    "from sklearn.linear_model import LogisticRegression\n",
    "from sklearn.metrics import classification_report, roc_auc_score\n",
    "import mlflow\n",
    "import mlflow.sklearn\n",
    "import warnings\n",
    "warnings.filterwarnings('ignore')"
   ]
  },
  {
   "cell_type": "code",
   "execution_count": 15,
   "id": "cdc1a796",
   "metadata": {},
   "outputs": [],
   "source": [
    "# Step 1: Create dataset\n",
    "X, y = make_classification(\n",
    "    n_samples=1000, n_features=10, n_informative=2, n_redundant=8, \n",
    "    weights=[0.9, 0.1], flip_y=0, random_state=42\n",
    ")\n",
    "X_train, X_test, y_train, y_test = train_test_split(\n",
    "    X, y, test_size=0.3, stratify=y, random_state=42\n",
    ")\n"
   ]
  },
  {
   "cell_type": "code",
   "execution_count": 16,
   "id": "7654fbd4",
   "metadata": {},
   "outputs": [],
   "source": [
    "# Model params\n",
    "params = {\n",
    "    \"solver\": \"lbfgs\",\n",
    "    \"max_iter\": 1000,\n",
    "    \"multi_class\": \"auto\",\n",
    "    \"random_state\": 42,\n",
    "}\n"
   ]
  },
  {
   "cell_type": "code",
   "execution_count": 17,
   "id": "de673e6f",
   "metadata": {},
   "outputs": [
    {
     "name": "stderr",
     "output_type": "stream",
     "text": [
      "Successfully registered model 'log_reg_model'.\n",
      "2025/08/24 05:24:24 INFO mlflow.store.model_registry.abstract_store: Waiting up to 300 seconds for model version to finish creation. Model name: log_reg_model, version 1\n",
      "Created version '1' of model 'log_reg_model'.\n"
     ]
    },
    {
     "name": "stdout",
     "output_type": "stream",
     "text": [
      "🏃 View run logreg_v1 at: http://127.0.0.1:5000/#/experiments/978891286603990841/runs/dc0c62c818ef49308c1d08c12d65a2ed\n",
      "🧪 View experiment at: http://127.0.0.1:5000/#/experiments/978891286603990841\n"
     ]
    }
   ],
   "source": [
    "# Train\n",
    "lr = LogisticRegression(**params)\n",
    "lr.fit(X_train, y_train)\n",
    "\n",
    "# Eval\n",
    "y_pred = lr.predict(X_test)\n",
    "report_dict = classification_report(y_test, y_pred, output_dict=True)\n",
    "auc = roc_auc_score(y_test, lr.predict_proba(X_test)[:, 1])\n",
    "\n",
    "# MLflow logging\n",
    "mlflow.set_tracking_uri(\"http://127.0.0.1:5000/\")\n",
    "mlflow.set_experiment(\"1st Experiment\")\n",
    "\n",
    "with mlflow.start_run(run_name=\"logreg_v1\"):\n",
    "    mlflow.log_params(params)\n",
    "    mlflow.log_metrics({\n",
    "        \"accuracy\": report_dict[\"accuracy\"],\n",
    "        \"recall_class_0\": report_dict[\"0\"][\"recall\"],\n",
    "        \"recall_class_1\": report_dict[\"1\"][\"recall\"],\n",
    "        \"f1_score_macro\": report_dict[\"macro avg\"][\"f1-score\"],\n",
    "        \"roc_auc\": auc\n",
    "    })\n",
    "    input_example = pd.DataFrame(X_train[:1], columns=[f\"feature_{i}\" for i in range(X_train.shape[1])])\n",
    "    mlflow.sklearn.log_model(\n",
    "        sk_model=lr,\n",
    "        name=\"Logistic Regression\",\n",
    "        input_example=input_example,\n",
    "        registered_model_name=\"log_reg_model\"\n",
    "    )"
   ]
  },
  {
   "cell_type": "code",
   "execution_count": null,
   "id": "683f9d6a",
   "metadata": {},
   "outputs": [],
   "source": []
  },
  {
   "cell_type": "code",
   "execution_count": null,
   "id": "deb6269c",
   "metadata": {},
   "outputs": [],
   "source": []
  },
  {
   "cell_type": "code",
   "execution_count": null,
   "id": "8a831666",
   "metadata": {},
   "outputs": [],
   "source": []
  },
  {
   "cell_type": "code",
   "execution_count": null,
   "id": "dfe94085",
   "metadata": {},
   "outputs": [],
   "source": []
  },
  {
   "cell_type": "code",
   "execution_count": null,
   "id": "61b1132b",
   "metadata": {},
   "outputs": [],
   "source": []
  },
  {
   "cell_type": "code",
   "execution_count": null,
   "id": "5a0682e5",
   "metadata": {},
   "outputs": [],
   "source": []
  },
  {
   "cell_type": "code",
   "execution_count": null,
   "id": "a5dac4b2",
   "metadata": {},
   "outputs": [],
   "source": []
  },
  {
   "cell_type": "code",
   "execution_count": null,
   "id": "467be451",
   "metadata": {},
   "outputs": [],
   "source": []
  },
  {
   "cell_type": "code",
   "execution_count": null,
   "id": "6d8dcbaa",
   "metadata": {},
   "outputs": [],
   "source": []
  },
  {
   "cell_type": "code",
   "execution_count": null,
   "id": "604c2c11",
   "metadata": {},
   "outputs": [],
   "source": []
  },
  {
   "cell_type": "code",
   "execution_count": null,
   "id": "f6faa4b9",
   "metadata": {},
   "outputs": [],
   "source": []
  },
  {
   "cell_type": "code",
   "execution_count": null,
   "id": "43a8b536",
   "metadata": {},
   "outputs": [],
   "source": []
  }
 ],
 "metadata": {
  "kernelspec": {
   "display_name": "Python 3",
   "language": "python",
   "name": "python3"
  },
  "language_info": {
   "codemirror_mode": {
    "name": "ipython",
    "version": 3
   },
   "file_extension": ".py",
   "mimetype": "text/x-python",
   "name": "python",
   "nbconvert_exporter": "python",
   "pygments_lexer": "ipython3",
   "version": "3.12.1"
  }
 },
 "nbformat": 4,
 "nbformat_minor": 5
}
